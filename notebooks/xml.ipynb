{
 "cells": [
  {
   "cell_type": "markdown",
   "id": "23daa091-aa91-464f-9af5-3778783ca920",
   "metadata": {},
   "source": [
    "# Simple XML\n",
    "\n",
    "This notebook goes over how run an agent that uses XML to format steps"
   ]
  },
  {
   "cell_type": "code",
   "execution_count": 5,
   "id": "b523ec52-74a4-48e7-8830-e252c4bc6acb",
   "metadata": {},
   "outputs": [],
   "source": [
    "# !pip install openai agents_deconstructed"
   ]
  },
  {
   "cell_type": "code",
   "execution_count": 1,
   "id": "812fd079-698c-4463-ae5f-1e0fa5f8019d",
   "metadata": {},
   "outputs": [],
   "source": [
    "from langchain.agents import tool\n",
    "from langchain.schema.agent import AgentFinish\n",
    "from langchain.callbacks.manager import (\n",
    "    trace_as_chain_group,\n",
    ")\n",
    "from langchain import hub\n",
    "from langchain.chat_models import ChatAnthropic, ChatOpenAI"
   ]
  },
  {
   "cell_type": "code",
   "execution_count": 2,
   "id": "b4418c1b-14c2-4c89-835b-1bfd0203c90f",
   "metadata": {},
   "outputs": [],
   "source": [
    "from agents_deconstructed import xml\n",
    "from agents_deconstructed.format_tools import format_tools_description"
   ]
  },
  {
   "cell_type": "code",
   "execution_count": 4,
   "id": "79c2e71d-0900-4b01-8760-afcd089cc46c",
   "metadata": {},
   "outputs": [],
   "source": [
    "# Create our 'agent' - this is a runnable\n",
    "prompt = hub.pull(\"shoggoth13/xml-agent\")\n",
    "agent = prompt | ChatOpenAI(temperature=0).bind(stop=[\"</tool_input>\", \"</final_answer>\"]) | xml.XMLAgentOutputParser()"
   ]
  },
  {
   "cell_type": "code",
   "execution_count": 5,
   "id": "287a88c5-f508-41f9-8f19-3a9ae3ef203d",
   "metadata": {},
   "outputs": [],
   "source": [
    "# Create a dummy tool\n",
    "@tool\n",
    "def run_code(query: str):\n",
    "    \"\"\"Input should be Python code. Use this to do math.\"\"\"\n",
    "    return eval(query)"
   ]
  },
  {
   "cell_type": "code",
   "execution_count": 6,
   "id": "e84e4e03-a97f-4bb4-a869-b565ec4f8a74",
   "metadata": {},
   "outputs": [
    {
     "name": "stdout",
     "output_type": "stream",
     "text": [
      "[(AgentAction(tool='run_code', tool_input='2 + 2', log='<tool>run_code</tool><tool_input>2 + 2'), 4)]\n"
     ]
    }
   ],
   "source": [
    "# Use this to group all traces together\n",
    "with trace_as_chain_group(\"agent-run\") as group_manager:\n",
    "    # Keep track of steps taken\n",
    "    steps = []\n",
    "    # Get the first response from the agent\n",
    "    action = agent.invoke({\n",
    "        \"question\": \"whats 2 + 2\",\n",
    "        \"tools\": format_tools_description([run_code]),\n",
    "        \"intermediate_steps\": xml.format_steps(steps)\n",
    "    }, config={\"callbacks\": group_manager})\n",
    "\n",
    "    # While it's not finished, iterate\n",
    "    while not isinstance(action, AgentFinish):\n",
    "        # Select the tool to use\n",
    "        tool = {\n",
    "            \"run_code\": run_code,\n",
    "        }[action.tool]\n",
    "        # Run the tool\n",
    "        observation = tool.run(action.tool_input, callbacks=group_manager)\n",
    "        # Construct intermediate steps\n",
    "        steps += [(action, observation)]\n",
    "        # Log the steps\n",
    "        print(steps)\n",
    "        # Do the next iteration\n",
    "        action = agent.invoke({\n",
    "            \"question\": \"whats 2 + 2\",\n",
    "            \"tools\": format_tools_description([run_code]),\n",
    "            \"intermediate_steps\": xml.format_steps(steps)\n",
    "        }, config={\"callbacks\": group_manager})"
   ]
  },
  {
   "cell_type": "code",
   "execution_count": 7,
   "id": "09321ae0-ea15-48e1-8070-ca8b31dbfc8f",
   "metadata": {},
   "outputs": [
    {
     "name": "stdout",
     "output_type": "stream",
     "text": [
      "AgentFinish(return_values={'output': '2 + 2 equals 4'}, log='<final_answer>2 + 2 equals 4')\n"
     ]
    }
   ],
   "source": [
    "print(action)"
   ]
  },
  {
   "cell_type": "code",
   "execution_count": null,
   "id": "6e5cee08-dd11-4402-af95-6a477a41cb00",
   "metadata": {},
   "outputs": [],
   "source": []
  }
 ],
 "metadata": {
  "kernelspec": {
   "display_name": "Python 3 (ipykernel)",
   "language": "python",
   "name": "python3"
  },
  "language_info": {
   "codemirror_mode": {
    "name": "ipython",
    "version": 3
   },
   "file_extension": ".py",
   "mimetype": "text/x-python",
   "name": "python",
   "nbconvert_exporter": "python",
   "pygments_lexer": "ipython3",
   "version": "3.10.2"
  }
 },
 "nbformat": 4,
 "nbformat_minor": 5
}
