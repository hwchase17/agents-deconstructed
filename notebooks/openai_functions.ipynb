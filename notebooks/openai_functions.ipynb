{
 "cells": [
  {
   "cell_type": "markdown",
   "id": "23daa091-aa91-464f-9af5-3778783ca920",
   "metadata": {},
   "source": [
    "# OpenAI Functions\n",
    "\n",
    "This notebook goes over how run an agent that uses OpenAI Functions"
   ]
  },
  {
   "cell_type": "code",
   "execution_count": 5,
   "id": "b523ec52-74a4-48e7-8830-e252c4bc6acb",
   "metadata": {},
   "outputs": [],
   "source": [
    "# !pip install openai agents_deconstructed"
   ]
  },
  {
   "cell_type": "code",
   "execution_count": 14,
   "id": "812fd079-698c-4463-ae5f-1e0fa5f8019d",
   "metadata": {},
   "outputs": [],
   "source": [
    "from langchain.agents import tool\n",
    "from langchain.schema.agent import AgentFinish\n",
    "from langchain.callbacks.manager import (\n",
    "    trace_as_chain_group,\n",
    ")\n",
    "from langchain.prompts import ChatPromptTemplate, MessagesPlaceholder\n",
    "from langchain.chat_models import ChatOpenAI\n",
    "from langchain.tools.convert_to_openai import format_tool_to_openai_function"
   ]
  },
  {
   "cell_type": "code",
   "execution_count": 4,
   "id": "b4418c1b-14c2-4c89-835b-1bfd0203c90f",
   "metadata": {},
   "outputs": [],
   "source": [
    "from agents_deconstructed import openai_functions"
   ]
  },
  {
   "cell_type": "code",
   "execution_count": 5,
   "id": "1341df6a-b9d6-4dc3-a6d0-c8055d40d6fe",
   "metadata": {},
   "outputs": [],
   "source": [
    "# Create a dummy tool\n",
    "@tool\n",
    "def run_code(query: str):\n",
    "    \"\"\"Input should be Python code. Use this to do math.\"\"\"\n",
    "    return eval(query)"
   ]
  },
  {
   "cell_type": "code",
   "execution_count": 7,
   "id": "b6d078f2-dfc0-4754-91e8-403708483e3d",
   "metadata": {},
   "outputs": [],
   "source": [
    "functions = [dict(format_tool_to_openai_function(t)) for t in [run_code]]"
   ]
  },
  {
   "cell_type": "code",
   "execution_count": 15,
   "id": "79c2e71d-0900-4b01-8760-afcd089cc46c",
   "metadata": {},
   "outputs": [],
   "source": [
    "# Create our 'agent' - this is a runnable\n",
    "agent = ChatPromptTemplate.from_messages([\n",
    "    (\"system\", \"You are a helpful assistant\"),\n",
    "    (\"user\", \"{question}\"),\n",
    "    MessagesPlaceholder(variable_name=\"intermediate_steps\"),\n",
    "]) | ChatOpenAI(temperature=0).bind(functions=functions) | openai_functions.FunctionsAgentOutputParser()"
   ]
  },
  {
   "cell_type": "code",
   "execution_count": 16,
   "id": "e84e4e03-a97f-4bb4-a869-b565ec4f8a74",
   "metadata": {},
   "outputs": [
    {
     "name": "stdout",
     "output_type": "stream",
     "text": [
      "[(FunctionsAgentAction(tool='run_code', tool_input={'query': '2 + 2'}, log=\"\\nInvoking: `run_code` with `{'query': '2 + 2'}`\\n\\n\\n\", message_log=[AIMessage(content='', additional_kwargs={'function_call': {'name': 'run_code', 'arguments': '{\\n  \"query\": \"2 + 2\"\\n}'}}, example=False)]), 4)]\n"
     ]
    }
   ],
   "source": [
    "# Use this to group all traces together\n",
    "with trace_as_chain_group(\"agent-run\") as group_manager:\n",
    "    # Keep track of steps taken\n",
    "    steps = []\n",
    "    # Get the first response from the agent\n",
    "    action = agent.invoke({\n",
    "        \"question\": \"whats 2 + 2\",\n",
    "        \"intermediate_steps\": openai_functions.format_intermediate_steps(steps)\n",
    "    }, config={\"callbacks\": group_manager})\n",
    "\n",
    "    # While it's not finished, iterate\n",
    "    while not isinstance(action, AgentFinish):\n",
    "        # Select the tool to use\n",
    "        tool = {\n",
    "            \"run_code\": run_code,\n",
    "        }[action.tool]\n",
    "        # Run the tool\n",
    "        observation = tool.run(action.tool_input, callbacks=group_manager)\n",
    "        # Construct intermediate steps\n",
    "        steps += [(action, observation)]\n",
    "        # Log the steps\n",
    "        print(steps)\n",
    "        # Do the next iteration\n",
    "        action = agent.invoke({\n",
    "            \"question\": \"whats 2 + 2\",\n",
    "            \"intermediate_steps\": openai_functions.format_intermediate_steps(steps)\n",
    "        }, config={\"callbacks\": group_manager})"
   ]
  },
  {
   "cell_type": "code",
   "execution_count": 17,
   "id": "09321ae0-ea15-48e1-8070-ca8b31dbfc8f",
   "metadata": {},
   "outputs": [
    {
     "name": "stdout",
     "output_type": "stream",
     "text": [
      "AgentFinish(return_values={'output': '2 + 2 equals 4.'}, log='2 + 2 equals 4.')\n"
     ]
    }
   ],
   "source": [
    "print(action)"
   ]
  },
  {
   "cell_type": "code",
   "execution_count": null,
   "id": "6e5cee08-dd11-4402-af95-6a477a41cb00",
   "metadata": {},
   "outputs": [],
   "source": []
  }
 ],
 "metadata": {
  "kernelspec": {
   "display_name": "Python 3 (ipykernel)",
   "language": "python",
   "name": "python3"
  },
  "language_info": {
   "codemirror_mode": {
    "name": "ipython",
    "version": 3
   },
   "file_extension": ".py",
   "mimetype": "text/x-python",
   "name": "python",
   "nbconvert_exporter": "python",
   "pygments_lexer": "ipython3",
   "version": "3.10.2"
  }
 },
 "nbformat": 4,
 "nbformat_minor": 5
}
